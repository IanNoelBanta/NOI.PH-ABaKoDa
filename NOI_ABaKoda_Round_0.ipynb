{
  "nbformat": 4,
  "nbformat_minor": 0,
  "metadata": {
    "colab": {
      "name": "NOI. Abakoda.Round 0.ipynb",
      "provenance": [],
      "collapsed_sections": [],
      "authorship_tag": "ABX9TyPU5cbz+NpPs1IhzC+0mvaL",
      "include_colab_link": true
    },
    "kernelspec": {
      "name": "python3",
      "display_name": "Python 3"
    },
    "language_info": {
      "name": "python"
    }
  },
  "cells": [
    {
      "cell_type": "markdown",
      "metadata": {
        "id": "view-in-github",
        "colab_type": "text"
      },
      "source": [
        "<a href=\"https://colab.research.google.com/github/Yaniii2021/NOI.PH-ABaKoDa/blob/main/NOI_ABaKoda_Round_0.ipynb\" target=\"_parent\"><img src=\"https://colab.research.google.com/assets/colab-badge.svg\" alt=\"Open In Colab\"/></a>"
      ]
    },
    {
      "cell_type": "code",
      "metadata": {
        "colab": {
          "base_uri": "https://localhost:8080/"
        },
        "id": "3u-iKCcwEwyV",
        "outputId": "2c5feee5-5865-4f90-e4d0-37fbaa1f9ce8"
      },
      "source": [
        "day = int(input())\n",
        "if day % 2 == 0:\n",
        "  print('Exercise')\n",
        "else:\n",
        "  print('Relax')"
      ],
      "execution_count": 1,
      "outputs": [
        {
          "output_type": "stream",
          "name": "stdout",
          "text": [
            "5\n",
            "Relax\n"
          ]
        }
      ]
    },
    {
      "cell_type": "code",
      "metadata": {
        "colab": {
          "base_uri": "https://localhost:8080/"
        },
        "id": "oH_MWdHpF5Xc",
        "outputId": "7d4f0e26-4408-4059-af62-4af8ae8b9602"
      },
      "source": [
        "n = int(input())\n",
        "ans = ((n*(n - 1))//2)\n",
        "print(ans)\n",
        "\n",
        "\n"
      ],
      "execution_count": 46,
      "outputs": [
        {
          "output_type": "stream",
          "name": "stdout",
          "text": [
            "1000000000000\n",
            "499999999999500000000000\n"
          ]
        }
      ]
    }
  ]
}