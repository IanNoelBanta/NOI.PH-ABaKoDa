{
  "nbformat": 4,
  "nbformat_minor": 0,
  "metadata": {
    "colab": {
      "name": "Noi.Abakoda.Round 1.ipynb",
      "provenance": [],
      "collapsed_sections": [],
      "authorship_tag": "ABX9TyPzHLPAEPA8a6+M9UE9saQq",
      "include_colab_link": true
    },
    "kernelspec": {
      "name": "python3",
      "display_name": "Python 3"
    },
    "language_info": {
      "name": "python"
    }
  },
  "cells": [
    {
      "cell_type": "markdown",
      "metadata": {
        "id": "view-in-github",
        "colab_type": "text"
      },
      "source": [
        "<a href=\"https://colab.research.google.com/github/Yaniii2021/NOI.PH-ABaKoDa/blob/main/Noi_Abakoda_Round_1.ipynb\" target=\"_parent\"><img src=\"https://colab.research.google.com/assets/colab-badge.svg\" alt=\"Open In Colab\"/></a>"
      ]
    },
    {
      "cell_type": "code",
      "metadata": {
        "colab": {
          "base_uri": "https://localhost:8080/"
        },
        "id": "3B3aNnYgDREK",
        "outputId": "49a0abbe-756d-4b14-ef61-cfddfe8a574f"
      },
      "source": [
        "n = int(input())\n",
        "\n",
        "if n == 1:\n",
        "  print('A') \n",
        "elif n == 2:\n",
        "  print('B')\n",
        "elif n == 3:\n",
        "  print('K')\n",
        "else:\n",
        "  print('D')"
      ],
      "execution_count": null,
      "outputs": [
        {
          "output_type": "stream",
          "name": "stdout",
          "text": [
            "1\n",
            "A\n"
          ]
        }
      ]
    },
    {
      "cell_type": "code",
      "metadata": {
        "colab": {
          "base_uri": "https://localhost:8080/"
        },
        "id": "35DHRljDEtHe",
        "outputId": "787effdc-2107-42ed-abbd-b4f2cd3b92de"
      },
      "source": [
        "a = 0 \n",
        "b = 0 \n",
        "k = 0\n",
        "d = 0\n",
        "\n",
        "n = int(input())\n",
        "\n",
        "for i in range(n):\n",
        "  user_input = input()\n",
        "  if 'A' in user_input:\n",
        "    a += 1\n",
        "  if 'B' in user_input:\n",
        "    b += 1\n",
        "  if 'K' in user_input:\n",
        "    k += 1\n",
        "  if 'D' in user_input:\n",
        "    d += 1\n",
        "\n",
        "print(a, b, k, d)"
      ],
      "execution_count": null,
      "outputs": [
        {
          "output_type": "stream",
          "name": "stdout",
          "text": [
            "4\n",
            "AK\n",
            "ABKD\n",
            "A\n",
            "ABK\n",
            "4 2 3 1\n"
          ]
        }
      ]
    },
    {
      "cell_type": "code",
      "metadata": {
        "colab": {
          "base_uri": "https://localhost:8080/"
        },
        "id": "mfJDHmb4DzgB",
        "outputId": "38936e0c-e4e4-4f49-c854-4e85f6d43e98"
      },
      "source": [
        "n = int(input())\n",
        "\n",
        "contestants_scores = []\n",
        "\n",
        "for i in range(n):\n",
        "  name, score = input().split()\n",
        "  contestants_scores.append([-int(score), name])\n",
        "\n",
        "contestants_scores.sort()\n",
        "\n",
        "for contestant in contestants_scores:\n",
        "  print(contestant[1], -contestant[0])\n"
      ],
      "execution_count": null,
      "outputs": [
        {
          "output_type": "stream",
          "name": "stdout",
          "text": [
            "3\n",
            "rawr 200\n",
            "lel 200\n",
            "mama 200\n",
            "lel 200\n",
            "mama 200\n",
            "rawr 200\n"
          ]
        }
      ]
    },
    {
      "cell_type": "code",
      "metadata": {
        "id": "aMmd1lfcFyzu",
        "colab": {
          "base_uri": "https://localhost:8080/"
        },
        "outputId": "e59758af-840d-4dcd-8cbb-37dbd74d0c55"
      },
      "source": [
        "contestants = []\n",
        "name_to_rank = {}\n",
        "\n",
        "n = int(input())\n",
        "\n",
        "for i in range(n):\n",
        "  name, score = input().split()\n",
        "  name_to_rank[name] = i + 1\n",
        "\n",
        "s = int(input())\n",
        "\n",
        "for k in range(s):\n",
        "  find_name = input()\n",
        "  print(name_to_rank[find_name])"
      ],
      "execution_count": null,
      "outputs": [
        {
          "output_type": "stream",
          "name": "stdout",
          "text": [
            "4\n",
            "abby 400\n",
            "cody 300\n",
            "aba 200\n",
            "koda 100\n",
            "5\n",
            "aba\n",
            "3\n",
            "abby\n",
            "1\n",
            "koda\n",
            "4\n",
            "cody\n",
            "2\n",
            "koda\n",
            "4\n"
          ]
        }
      ]
    }
  ]
}